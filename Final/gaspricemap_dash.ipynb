{
 "cells": [
  {
   "cell_type": "code",
   "execution_count": 50,
   "id": "ef2554e0",
   "metadata": {
    "ExecuteTime": {
     "end_time": "2021-12-04T00:15:31.817573Z",
     "start_time": "2021-12-04T00:15:31.799557Z"
    }
   },
   "outputs": [],
   "source": [
    "import pandas as pd\n",
    "import numpy as np\n",
    "import plotly.express as px\n",
    "import dash \n",
    "from jupyter_dash import JupyterDash\n",
    "from dash import dcc\n",
    "from dash import html\n",
    "from dash.dependencies import Output, Input\n",
    "import dash_bootstrap_components as dbc\n",
    "from dash import dash_table"
   ]
  },
  {
   "cell_type": "code",
   "execution_count": 11,
   "id": "d41da4ad",
   "metadata": {
    "ExecuteTime": {
     "end_time": "2021-12-03T22:39:22.772751Z",
     "start_time": "2021-12-03T22:39:22.387193Z"
    }
   },
   "outputs": [],
   "source": [
    "from urllib.request import urlopen\n",
    "import json\n",
    "with urlopen('https://raw.githubusercontent.com/plotly/datasets/master/geojson-counties-fips.json') as response:\n",
    "    counties = json.load(response)"
   ]
  },
  {
   "cell_type": "code",
   "execution_count": 45,
   "id": "77b12d05",
   "metadata": {
    "ExecuteTime": {
     "end_time": "2021-12-04T00:13:47.170716Z",
     "start_time": "2021-12-04T00:13:47.149847Z"
    }
   },
   "outputs": [],
   "source": [
    "df = pd.read_csv('priceFIPS.csv')\n",
    "df['FIPS'] = df['FIPS'].apply(lambda x: str(x).zfill(5))"
   ]
  },
  {
   "cell_type": "code",
   "execution_count": 53,
   "id": "0e34e4ac",
   "metadata": {
    "ExecuteTime": {
     "end_time": "2021-12-04T00:16:02.879529Z",
     "start_time": "2021-12-04T00:16:02.875538Z"
    }
   },
   "outputs": [],
   "source": [
    "total = np.insert(df.state.unique(),0,'USA')"
   ]
  },
  {
   "cell_type": "code",
   "execution_count": 55,
   "id": "d411873f",
   "metadata": {
    "ExecuteTime": {
     "end_time": "2021-12-04T00:16:23.902578Z",
     "start_time": "2021-12-04T00:16:23.842673Z"
    }
   },
   "outputs": [
    {
     "data": {
      "text/html": [
       "\n",
       "        <iframe\n",
       "            width=\"80%\"\n",
       "            height=\"500\"\n",
       "            src=\"http://127.0.0.1:8050/\"\n",
       "            frameborder=\"0\"\n",
       "            allowfullscreen\n",
       "        ></iframe>\n",
       "        "
      ],
      "text/plain": [
       "<IPython.lib.display.IFrame at 0x1ed5d2ef5b0>"
      ]
     },
     "metadata": {},
     "output_type": "display_data"
    }
   ],
   "source": [
    "app = JupyterDash(__name__,external_stylesheets=[dbc.themes.BOOTSTRAP])\n",
    "\n",
    "app.layout = html.Div([\n",
    "    dcc.Dropdown(id='state_dropdown',\n",
    "                 options=[{'label': state, 'value': state}\n",
    "                          for state in total]),\n",
    "    dcc.Graph(id='graph'),\n",
    "])\n",
    "\n",
    "@app.callback(\n",
    "    Output('graph', 'figure'),\n",
    "    Input('state_dropdown', 'value'))\n",
    "def update_figure(state):\n",
    "    if state is None or state =='USA':\n",
    "        fig = px.choropleth(df, geojson=counties, locations='FIPS', color='price',\n",
    "                                   color_continuous_scale=\"jet\",\n",
    "                            hover_name=\"county\",\n",
    "                                   range_color=(df['price'].min()-0.1, df['price'].max()+0.1),\n",
    "                                   scope=\"usa\",\n",
    "                            title = 'USA gas price by county'\n",
    "                                  )\n",
    "        fig.update_traces(marker_line_width=0.1, marker_opacity=0.8)\n",
    "        fig.update_geos(showsubunits=True, subunitcolor=\"black\")\n",
    "        fig.update_layout(height=600, margin={\"r\":0,\"t\":50,\"l\":0,\"b\":0})\n",
    "    else:\n",
    "        df2 = df[df['state']==state]\n",
    "        fig = px.choropleth(df2, geojson=counties, locations='FIPS', color='price',\n",
    "                                   color_continuous_scale=\"jet\",\n",
    "                            hover_name=\"county\",\n",
    "                                   range_color=(df['price'].min()-0.1, df['price'].max()+0.1),\n",
    "                            title ='gas price by county in State ' + state\n",
    "                                  )\n",
    "        fig.update_geos(fitbounds='locations', visible=False)\n",
    "        fig.update_traces(marker_line_width=0.3)\n",
    "    return fig\n",
    "\n",
    "if __name__ == '__main__':\n",
    "    app.run_server(mode='inline', height= 500, width = '80%')"
   ]
  }
 ],
 "metadata": {
  "kernelspec": {
   "display_name": "Python 3",
   "language": "python",
   "name": "python3"
  },
  "language_info": {
   "codemirror_mode": {
    "name": "ipython",
    "version": 3
   },
   "file_extension": ".py",
   "mimetype": "text/x-python",
   "name": "python",
   "nbconvert_exporter": "python",
   "pygments_lexer": "ipython3",
   "version": "3.8.8"
  },
  "toc": {
   "base_numbering": 1,
   "nav_menu": {},
   "number_sections": true,
   "sideBar": true,
   "skip_h1_title": false,
   "title_cell": "Table of Contents",
   "title_sidebar": "Contents",
   "toc_cell": false,
   "toc_position": {},
   "toc_section_display": true,
   "toc_window_display": false
  }
 },
 "nbformat": 4,
 "nbformat_minor": 5
}
